{
  "nbformat": 4,
  "nbformat_minor": 0,
  "metadata": {
    "colab": {
      "name": "ChatBot - Day 3.ipynb",
      "provenance": [],
      "include_colab_link": true
    },
    "kernelspec": {
      "name": "python3",
      "display_name": "Python 3"
    },
    "language_info": {
      "name": "python"
    }
  },
  "cells": [
    {
      "cell_type": "markdown",
      "metadata": {
        "id": "view-in-github",
        "colab_type": "text"
      },
      "source": [
        "<a href=\"https://colab.research.google.com/github/Rusk02/test/blob/main/ChatBot_Day_3.ipynb\" target=\"_parent\"><img src=\"https://colab.research.google.com/assets/colab-badge.svg\" alt=\"Open In Colab\"/></a>"
      ]
    },
    {
      "cell_type": "code",
      "source": [
        "!pip install python-telegram-bot --upgrade"
      ],
      "metadata": {
        "id": "8p78X8NQgMTe"
      },
      "execution_count": null,
      "outputs": []
    },
    {
      "cell_type": "markdown",
      "source": [
        "# Дни 1 и 2"
      ],
      "metadata": {
        "id": "ptdMt3PhgZil"
      }
    },
    {
      "cell_type": "code",
      "source": [
        "import random\n",
        "import nltk\n",
        "import json\n",
        "from sklearn.feature_extraction.text import CountVectorizer, TfidfVectorizer\n",
        "from sklearn.linear_model import LogisticRegression\n",
        "from sklearn.ensemble import RandomForestClassifier, AdaBoostClassifier\n",
        "from sklearn.neighbors import KNeighborsClassifier\n",
        "from sklearn.model_selection import train_test_split"
      ],
      "metadata": {
        "id": "pE8jTkT3bYn0"
      },
      "execution_count": null,
      "outputs": []
    },
    {
      "cell_type": "code",
      "source": [
        "# BOT_CONFIG = {\n",
        "#     'intents': {\n",
        "#         'hello': {\n",
        "#             'examples': ['привет!', 'хай!!', 'прив'],\n",
        "#             'responses': ['здравствуйте', 'хэллоу!', 'хей!!1']\n",
        "#         },\n",
        "#         'bye': {\n",
        "#             'examples': ['пока!', 'покеда!!', 'до свиданья'],\n",
        "#             'responses': ['увидимся))', 'до связи', 'Сайонара']\n",
        "#         }\n",
        "#     }\n",
        "# }"
      ],
      "metadata": {
        "id": "gWVgDP1sSY84"
      },
      "execution_count": null,
      "outputs": []
    },
    {
      "cell_type": "code",
      "source": [
        "def clean(text):\n",
        "  clean_text = ''\n",
        "  for ch in text.lower():\n",
        "    if ch in 'абвгдеёжзийклмнопрстуфхцчшщъыьэюя ':\n",
        "      clean_text = clean_text + ch\n",
        "  return clean_text"
      ],
      "metadata": {
        "id": "RtpUwTMkg_7f"
      },
      "execution_count": null,
      "outputs": []
    },
    {
      "cell_type": "code",
      "source": [
        "with open('/content/BOT_CONFIG.json') as f:\n",
        "  BOT_CONFIG = json.load(f)\n",
        "del BOT_CONFIG['intents']['price']\n",
        "len(BOT_CONFIG['intents'].keys())"
      ],
      "metadata": {
        "colab": {
          "base_uri": "https://localhost:8080/"
        },
        "id": "VpBTWATcWF6R",
        "outputId": "194271ee-b0e3-4c5c-e20d-03e5224d6624"
      },
      "execution_count": null,
      "outputs": [
        {
          "output_type": "execute_result",
          "data": {
            "text/plain": [
              "299"
            ]
          },
          "metadata": {},
          "execution_count": 5
        }
      ]
    },
    {
      "cell_type": "code",
      "source": [
        "texts = []\n",
        "y = []\n",
        "for intent in BOT_CONFIG['intents'].keys():\n",
        "  for example in BOT_CONFIG['intents'][intent]['examples']:\n",
        "    texts.append(example)\n",
        "    y.append(intent)\n",
        "len(texts), len(y)"
      ],
      "metadata": {
        "colab": {
          "base_uri": "https://localhost:8080/"
        },
        "id": "BlnJzx01W5Tz",
        "outputId": "69e56006-36d3-48de-8fbb-b42c4b587d37"
      },
      "execution_count": null,
      "outputs": [
        {
          "output_type": "execute_result",
          "data": {
            "text/plain": [
              "(1173, 1173)"
            ]
          },
          "metadata": {},
          "execution_count": 6
        }
      ]
    },
    {
      "cell_type": "code",
      "source": [
        "train_texts, test_texts, y_train, y_test = train_test_split(texts, y, random_state=42, test_size=0.2)"
      ],
      "metadata": {
        "id": "7InxFQIobbDm"
      },
      "execution_count": null,
      "outputs": []
    },
    {
      "cell_type": "code",
      "source": [
        "# vectorizer = CountVectorizer(ngram_range=(1,3), analyzer='char_wb') #TfidfVectorizer(ngram_range=(1,5), analyzer='char_wb')\n",
        "vectorizer = CountVectorizer(ngram_range=(2, 2), min_df=0.1, max_df=0.7, \n",
        "                             max_features=100, analyzer='char_wb') \n",
        "X_train = vectorizer.fit_transform(train_texts)\n",
        "X_test = vectorizer.transform(test_texts)"
      ],
      "metadata": {
        "id": "20Yn6tazXdv6"
      },
      "execution_count": null,
      "outputs": []
    },
    {
      "cell_type": "code",
      "source": [
        "vocab = vectorizer.get_feature_names_out()\n",
        "len(vocab)"
      ],
      "metadata": {
        "colab": {
          "base_uri": "https://localhost:8080/"
        },
        "id": "qLlE7h7vXdss",
        "outputId": "7eb294b3-739a-40e9-8cee-55ae889b2c0f"
      },
      "execution_count": null,
      "outputs": [
        {
          "output_type": "execute_result",
          "data": {
            "text/plain": [
              "28"
            ]
          },
          "metadata": {},
          "execution_count": 22
        }
      ]
    },
    {
      "cell_type": "code",
      "source": [
        "# clf = RandomForestClassifier(n_estimators=300) #LogisticRegression().fit(X_train, y_train)\n",
        "# clf = AdaBoostClassifier(n_estimators=5000, random_state=0)\n",
        "clf = KNeighborsClassifier(n_neighbors=1, weights = 'distance', \n",
        "                           algorithm='brute', leaf_size=30, p=1, \n",
        "                           metric='minkowski', metric_params=None, n_jobs=-1)\n",
        "clf.fit(X_train, y_train)\n",
        "clf.score(X_train, y_train), clf.score(X_test, y_test) #LogisticRegression: 0.14893617021276595, RandomForestClassifier: 0.19574468085106383"
      ],
      "metadata": {
        "colab": {
          "base_uri": "https://localhost:8080/"
        },
        "id": "Buzokc7_YsYV",
        "outputId": "406b9018-376f-47e9-a98d-156f51c62916"
      },
      "execution_count": null,
      "outputs": [
        {
          "output_type": "execute_result",
          "data": {
            "text/plain": [
              "(0.6556503198294243, 0.0425531914893617)"
            ]
          },
          "metadata": {},
          "execution_count": 25
        }
      ]
    },
    {
      "cell_type": "code",
      "source": [
        "# clf.predict(vectorizer.transform(['привет!']))"
      ],
      "metadata": {
        "id": "kLubwTWAYsVG"
      },
      "execution_count": null,
      "outputs": []
    },
    {
      "cell_type": "code",
      "source": [
        "# def get_intent(text):\n",
        "#   for intent in BOT_CONFIG['intents'].keys():\n",
        "#     for example in BOT_CONFIG['intents'][intent]['examples']:\n",
        "#       s1 = clean(text)\n",
        "#       s2 = clean(example)\n",
        "#       if nltk.edit_distance(s1, s2) / max(len(s1), len(s2)) < 0.4:\n",
        "#         return intent\n",
        "#   return 'интент не найден'\n",
        "\n",
        "def get_intent_by_model(text):\n",
        "  return clf.predict(vectorizer.transform([text]))[0]\n",
        "\n",
        "def bot(input_text):\n",
        "  intent = get_intent_by_model(input_text)\n",
        "  return random.choice(BOT_CONFIG['intents'][intent]['responses'])"
      ],
      "metadata": {
        "id": "V413ihNiZA-f"
      },
      "execution_count": null,
      "outputs": []
    },
    {
      "cell_type": "code",
      "source": [
        "input_text = ''\n",
        "while input_text != 'stop':\n",
        "  input_text = input()\n",
        "  if input_text != 'stop':\n",
        "    response = bot(input_text)\n",
        "    print(response)"
      ],
      "metadata": {
        "colab": {
          "base_uri": "https://localhost:8080/"
        },
        "id": "giN0MoZ2Z6o6",
        "outputId": "e0b566da-2ef4-4f43-dca8-ff62d67d50df"
      },
      "execution_count": null,
      "outputs": [
        {
          "name": "stdout",
          "output_type": "stream",
          "text": [
            "stop\n"
          ]
        }
      ]
    },
    {
      "cell_type": "markdown",
      "source": [
        "# День 3"
      ],
      "metadata": {
        "id": "LKlb0XINgVn5"
      }
    },
    {
      "cell_type": "code",
      "source": [
        "import logging\n",
        "\n",
        "from telegram import Update, ForceReply\n",
        "from telegram.ext import Updater, CommandHandler, MessageHandler, Filters, CallbackContext\n",
        "\n",
        "# Enable logging\n",
        "logging.basicConfig(\n",
        "    format='%(asctime)s - %(name)s - %(levelname)s - %(message)s', level=logging.INFO\n",
        ")\n",
        "\n",
        "logger = logging.getLogger(__name__)\n",
        "\n",
        "\n",
        "# Define a few command handlers. These usually take the two arguments update and\n",
        "# context.\n",
        "def start(update: Update, context: CallbackContext) -> None:\n",
        "    \"\"\"Send a message when the command /start is issued.\"\"\"\n",
        "    user = update.effective_user\n",
        "    update.message.reply_markdown_v2(\n",
        "        fr'Hi {user.mention_markdown_v2()}\\!',\n",
        "        reply_markup=ForceReply(selective=True),\n",
        "    )\n",
        "\n",
        "\n",
        "def help_command(update: Update, context: CallbackContext) -> None:\n",
        "    \"\"\"Send a message when the command /help is issued.\"\"\"\n",
        "    update.message.reply_text('Help!')\n",
        "\n",
        "\n",
        "def echo(update: Update, context: CallbackContext) -> None:\n",
        "    \"\"\"Echo the user message.\"\"\"\n",
        "    input_text = update.message.text\n",
        "    output_text = bot(input_text)\n",
        "    update.message.reply_text(output_text)\n",
        "\n",
        "\n",
        "def main() -> None:\n",
        "    \"\"\"Start the bot.\"\"\"\n",
        "    # Create the Updater and pass it your bot's token.\n",
        "    updater = Updater(\"5010629338:AAGRKszcyoCUF067nljwOiR7YVGaDmBttJo\")\n",
        "\n",
        "    # Get the dispatcher to register handlers\n",
        "    dispatcher = updater.dispatcher\n",
        "\n",
        "    # on different commands - answer in Telegram\n",
        "    dispatcher.add_handler(CommandHandler(\"start\", start))\n",
        "    dispatcher.add_handler(CommandHandler(\"help\", help_command))\n",
        "\n",
        "    # on non command i.e message - echo the message on Telegram\n",
        "    dispatcher.add_handler(MessageHandler(Filters.text & ~Filters.command, echo))\n",
        "\n",
        "    # Start the Bot\n",
        "    updater.start_polling()\n",
        "\n",
        "    # Run the bot until you press Ctrl-C or the process receives SIGINT,\n",
        "    # SIGTERM or SIGABRT. This should be used most of the time, since\n",
        "    # start_polling() is non-blocking and will stop the bot gracefully.\n",
        "    updater.idle()\n",
        "\n",
        "\n",
        "if __name__ == '__main__':\n",
        "    main()"
      ],
      "metadata": {
        "id": "kXZTcE3qgRFN",
        "colab": {
          "base_uri": "https://localhost:8080/"
        },
        "outputId": "78daa0cc-8705-4963-aa15-41021f90e23f"
      },
      "execution_count": null,
      "outputs": [
        {
          "output_type": "stream",
          "name": "stderr",
          "text": [
            "2022-01-12 18:48:08,296 - apscheduler.scheduler - INFO - Scheduler started\n"
          ]
        }
      ]
    },
    {
      "cell_type": "code",
      "source": [
        ""
      ],
      "metadata": {
        "id": "Lk3n-pdjgfPO"
      },
      "execution_count": null,
      "outputs": []
    }
  ]
}